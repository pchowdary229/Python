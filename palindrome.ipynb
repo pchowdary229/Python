{
 "cells": [
  {
   "cell_type": "code",
   "execution_count": 1,
   "metadata": {},
   "outputs": [
    {
     "name": "stdout",
     "output_type": "stream",
     "text": [
      "h\n",
      "Yes, the given string 'h' is a palindrome\n"
     ]
    }
   ],
   "source": [
    "string = input(\"enter the value: \")\n",
    "str_reverse=string[::-1]\n",
    "print(str_reverse)\n",
    "if string==str_reverse: \n",
    "  print(f\"Yes, the given string '{string}' is a palindrome\")\n",
    "else:\n",
    "  print(f\"No, the given '{string}' is not a palindrome\")"
   ]
  }
 ],
 "metadata": {
  "kernelspec": {
   "display_name": "Python 3",
   "language": "python",
   "name": "python3"
  },
  "language_info": {
   "codemirror_mode": {
    "name": "ipython",
    "version": 3
   },
   "file_extension": ".py",
   "mimetype": "text/x-python",
   "name": "python",
   "nbconvert_exporter": "python",
   "pygments_lexer": "ipython3",
   "version": "3.13.1"
  }
 },
 "nbformat": 4,
 "nbformat_minor": 2
}
